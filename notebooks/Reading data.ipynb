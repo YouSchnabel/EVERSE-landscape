{
 "cells": [
  {
   "cell_type": "code",
   "execution_count": 1,
   "id": "df339743-88ea-4b7e-bd37-81b36069d34c",
   "metadata": {},
   "outputs": [],
   "source": [
    "import sys\n",
    "import os\n",
    "\n",
    "sys.path.append(\"../src\")\n",
    "\n",
    "from surveyreader import DataSet"
   ]
  },
  {
   "cell_type": "code",
   "execution_count": 2,
   "id": "e778904c-d622-4417-80d8-ebcf3553401f",
   "metadata": {},
   "outputs": [],
   "source": [
    "data = DataSet(\"../data/Content_Export_EVERSElandscaping_Survey_results_16-10-2024_nopersonal.xls\")"
   ]
  },
  {
   "cell_type": "code",
   "execution_count": 10,
   "id": "3f3338a8-3a02-41dc-9643-feb4d4e49828",
   "metadata": {},
   "outputs": [
    {
     "name": "stdout",
     "output_type": "stream",
     "text": [
      "Identified 83 of 115\n"
     ]
    }
   ],
   "source": [
    "#for key in data.metadata:\n",
    "#    print (key)\n",
    "\n",
    "displaycounter = 0\n",
    "\n",
    "for quest in data.metadata:\n",
    "    if data.metadata[quest][\"entrytype\"] == \"undefined\":\n",
    "        displaycounter += 1\n",
    "\n",
    "print (\"Identified\", len(data.metadata)-displaycounter, \"of\", len(data.metadata))"
   ]
  },
  {
   "cell_type": "code",
   "execution_count": 4,
   "id": "8b1c5dd4-d2e0-4ea2-b5dc-97158937798e",
   "metadata": {},
   "outputs": [
    {
     "name": "stdout",
     "output_type": "stream",
     "text": [
      "A0 - The perspective you assume in the survey is (P3) (textlist)\n",
      "A1 - Your research field (P5) (textlist)\n",
      "A2 - How are you involved in research software? Multiple selections are possible. (P4) (textlist)\n",
      "A3 - Your involvement in research software (ID27) (textlist)\n",
      "A4 - Your institution / organisation / group (for internal purposes only, information will not be public). (P6) (textlist)\n",
      "A5 - If applicable: which of the following EOSC clusters are you part of? (P7) (textlist)\n",
      "A6 - Further description of your role or group (P8) (textlist)\n",
      "A7 - Are specific definitions of software levels like the ones above used in your community? (S1) (textlist)\n",
      "A8 - If possible, provide URL to documents containing the definition. (S2) (textlist)\n",
      "A9 - Are you aware of a different approach to software levels in your community? If so, briefly describe and/or provide references! (S3) (textlist)\n",
      "A10 - Considering the software levels introduced above, how important is software of the respective levels in your research field? (Importance) Overall, how well established are practices to maintain quality and correctness of the code produced for this level? (Quality practice)  (undefined)\n",
      "A11 - For which of the software levels do you feel confident about answering this survey? Multiple selections are possible, and the following questions will be adjusted to your choices. (S5) (textlist)\n",
      "A12 - What type of guideline are you aware of for analysis code? Are there only general software guidelines available, or guidelines specific for researchers or even your community? (S6_L1) (textlist)\n",
      "A13 - Please specify the type of the guidelines here (S7_L1) (textlist)\n",
      "A14 - Please provide specific information about the guidelines here with a short description and URL if possible. (S8_L1) (textlist)\n",
      "A15 - Are you aware of any guidelines or mechanisms that help to improve analysis code towards the prototype tool level? If yes, describe and/or provide links. (S9_L1) (textlist)\n",
      "A16 - What type of guideline are you aware of for prototype tools? Are there only general software guidelines available, or guidelines specific for researchers or even your community? (S6_L2) (textlist)\n",
      "A17 - Please specify the type of the guidelines here (S7_L2) (textlist)\n",
      "A18 - Please provide specific information about the guidelines here with a short description and URL if possible. (S8_L2) (textlist)\n",
      "A19 - Are you aware of any guidelines or mechanisms that help to improve prototype tools towards the software research infrastructure level? If yes, describe and/or provide links. (S9_L2) (textlist)\n",
      "A20 - What type of guideline are you aware of for research software infrastructure? Are there only general software guidelines available, or guidelines specific for researchers or even your community? (S6_L3) (textlist)\n",
      "A21 - Please specify the type of the guidelines here (S7_L3) (textlist)\n",
      "A22 - Please provide specific information about the guidelines here with a short description and URL if possible. (S8_L3) (textlist)\n",
      "A23 - How confident are you about the correctness of your answers in this section? (10 as maximum confidence) (rating)\n",
      "A24 - Are you aware of guidelines to support the different stages of the software lifecycle? Please select here the number of answers you can provide for specific guidelines and specify them below. (G1) (textlist)\n",
      "A25 - Please give a short description of the guideline. (ID248) (textlist)\n",
      "A26 - If possible, please provide a URL. (ID249) (textlist)\n",
      "A27 - For which lifecycle stage is the guideline applicable? (ID11) (textlist)\n",
      "A28 - Is the guideline a general software guideline, or specific for researchers or even your community? (ID198) (textlist)\n",
      "A29 - Please give a short description of the guideline. (ID260) (textlist)\n",
      "A30 - If possible, please provide a URL. (ID261) (textlist)\n",
      "A31 - For which lifecycle stage is the guideline applicable? (ID262) (textlist)\n",
      "A32 - Is the guideline a general software guideline, or specific for researchers or even your community? (ID267) (textlist)\n",
      "A33 - Please give a short description of the guideline. (ID337) (textlist)\n",
      "A34 - If possible, please provide a URL. (ID338) (textlist)\n",
      "A35 - For which lifecycle stage is the guideline applicable? (ID339) (textlist)\n",
      "A36 - Is the guideline a general software guideline, or specific for researchers or even your community? (ID344) (textlist)\n",
      "A37 - Please give a short description of the guideline. (ID56) (no answers)\n",
      "A38 - If possible, please provide a URL. (ID57) (no answers)\n",
      "A39 - For which lifecycle stage is the guideline applicable? (ID61) (no answers)\n",
      "A40 - Is the guideline a general software guideline, or specific for researchers or even your community? (ID80) (no answers)\n",
      "A41 - Please give a short description of the guideline. (ID246) (no answers)\n",
      "A42 - If possible, please provide a URL. (ID250) (no answers)\n",
      "A43 - For which lifecycle stage is the guideline applicable? (ID251) (no answers)\n",
      "A44 - Is the guideline a general software guideline, or specific for researchers or even your community? (ID352) (no answers)\n",
      "A45 - For which part of the software lifecycle are you aware of infrastructure that is provided to support software quality? Infrastructure can be e.g. services and computing resources or providers of advice and support structures or training. Selection will open a section to enter specific information below. (ID370) (textlist)\n",
      "A46 - Please briefly describe the infrastructure and, if possible, provide a URL. (ID386) (textlist)\n",
      "A47 - Who is the provider of the infrastructure? (ID378) (textlist)\n",
      "A48 - Is there a lack of infrastructure or support you are aware of at this level? What is missing? (ID387) (textlist)\n",
      "A49 - Please briefly describe the infrastructure and, if possible, provide a URL. (ID398) (textlist)\n",
      "A50 - Who is the provider of the infrastructure? (ID399) (textlist)\n",
      "A51 - Is there a lack of infrastructure or support you are aware of at this level? What is missing? (ID410) (textlist)\n",
      "A52 - Please briefly describe the infrastructure and, if possible, provide a URL. (ID420) (textlist)\n",
      "A53 - Who is the provider of the infrastructure? (ID423) (textlist)\n",
      "A54 - Is there a lack of infrastructure or support you are aware of at this level? What is missing? (ID429) (textlist)\n",
      "A55 - Please briefly describe the infrastructure and, if possible, provide a URL. (ID431) (textlist)\n",
      "A56 - Who is the provider of the infrastructure? (ID432) (textlist)\n",
      "A57 - Is there a lack of infrastructure or support you are aware of at this level? What is missing? (ID438) (textlist)\n",
      "A58 - Which financial support is available to ensure software quality? Please provide below up to three answers by selecting the number of answers you can provide here. (ID12) (textlist)\n",
      "A59 - Is there a lack of financing that you are aware of? What is missing? (ID212) (textlist)\n",
      "A60 - Please briefly describe the financial support and provide a URL if possible. (ID357) (textlist)\n",
      "A61 - That type of funding is it? Is it funding not directly dedicated to the project (side funding), project-based for a wider project context, dedicated to the software package, mixed funding with other types, or partial funding of a large-sclae overarching project. (ID218) (textlist)\n",
      "A62 - Which of the lifecycle stages is the financing applicable for? (ID215) (textlist)\n",
      "A63 - Please briefly describe the financial support and provide a URL if possible. (ID369) (textlist)\n",
      "A64 - That type of funding is it? Is it funding not directly dedicated to the project (side funding), project-based for a wider project context, dedicated to the software package, mixed funding with other types, or partial funding of a large-sclae overarching project. (ID371) (textlist)\n",
      "A65 - Which of the lifecycle stages is the financing applicable for? (ID391) (textlist)\n",
      "A66 - Please briefly describe the financial support and provide a URL if possible. (ID439) (textlist)\n",
      "A67 - That type of funding is it? Is it funding not directly dedicated to the project (side funding), project-based for a wider project context, dedicated to the software package, mixed funding with other types, or partial funding of a large-sclae overarching project. (ID440) (textlist)\n",
      "A68 - Which of the lifecycle stages is the financing applicable for? (ID447) (textlist)\n",
      "A69 - How would you rate the importance of the following incentives for the application of software quality practices in your field? 5 indicates highest importance, 1 lowest. (rating)\n",
      "A70 - Do you know any other incentives that are missing? (ID1571) (textlist)\n",
      "A71 - How important would you consider the following policies for the application of software quality standards to your work / in your field. 5 indicates highest, 1 lowest importance. If you are aware of other policies, please specify them below. (rating)\n",
      "A72 - Other policy (undefined)\n",
      "A73 - How important would you consider the following community involvement practices for software in your field? Rate 5 as highest, 1 as lowest importance. (rating)\n",
      "A74 - Are you aware of any community involvement practice missing here? Please provide information below. (ID247) (textlist)\n",
      "A75 - Which guidelines are you aware of for the most important community involvement practices you ranked above? Please provide a short description of the practice you consider (Practice decription) and link to guidelines or resources of the practice if possible (link or example). Guideline 1 (ID122) (undefined)\n",
      "A76 - Which guidelines are you aware of for the most important community involvement practices you ranked above? Please provide a short description of the practice you consider (Practice decription) and link to guidelines or resources of the practice if possible (link or example). Guideline 2 (ID123) (undefined)\n",
      "A77 - Which guidelines are you aware of for the most important community involvement practices you ranked above? Please provide a short description of the practice you consider (Practice decription) and link to guidelines or resources of the practice if possible (link or example). Guideline 3 (ID124) (undefined)\n",
      "A78 - How important are the following security aspects for your software? Rate 5 for highest, 1 for lowest importance. (rating)\n",
      "A79 - Are there any relevant security aspects missing above? If yes, please describe and provide guidelines if possible. (ID105) (textlist)\n",
      "A80 - Which guidelines are you aware of for the most important security aspects you ranked above? Please provide a short description of the practice you consider (example) and link to guidelines or resources of the practice if possible. Guideline 1 (ID119) (undefined)\n",
      "A81 - Which guidelines are you aware of for the most important security aspects you ranked above? Please provide a short description of the practice you consider (example) and link to guidelines or resources of the practice if possible. Guideline 2 (ID120) (undefined)\n",
      "A82 - Which guidelines are you aware of for the most important security aspects you ranked above? Please provide a short description of the practice you consider (example) and link to guidelines or resources of the practice if possible. Guideline 3 (ID121) (no answers)\n",
      "A83 - How important are the following ethical and social aspects for the research software in your field? Rate 5 for highest, 1 for lowest importance. (rating)\n",
      "A84 - If you are aware of any ethical aspects not mentioned above, please add information here and link to relevant guidelines, if possible. (ID125) (textlist)\n",
      "A85 - Which guidelines are you aware of for the most important ethical aspects you ranked above? Please provide a short description of the practice you consider (example) and link to guidelines or resources of the practice if possible. Guideline 1 (ID116) (undefined)\n",
      "A86 - Which guidelines are you aware of for the most important ethical aspects you ranked above? Please provide a short description of the practice you consider (example) and link to guidelines or resources of the practice if possible. Guideline 2 (ID117) (undefined)\n",
      "A87 - Which guidelines are you aware of for the most important ethical aspects you ranked above? Please provide a short description of the practice you consider (example) and link to guidelines or resources of the practice if possible. Guideline 3 (ID118) (no answers)\n",
      "A88 - Please select here, to which aspects you would like to or can answer the questions. You are invited to answer all sections but can also limit the selection to those you feel most confident with. (ID107) (textlist)\n",
      "A89 - How would you estimate the importance of the following quality aspects for the software in your community? 5 indicates highest importance, 1 being unimportant. (rating)\n",
      "A90 - How well are these quality aspects implemented in your work or your field? 5 indicates very good implementation, 1 indicates not being implemented. (rating)\n",
      "A91 - Which specific guidelines or tools are you aware of that help to enable the quality aspects? Provide short descriptions and/or URLs if possible, leave empty if there are no specific guidelines or tools. Code efficiency and speed (ID281) (undefined)\n",
      "A92 - Which specific guidelines or tools are you aware of that help to enable the quality aspects? Provide short descriptions and/or URLs if possible, leave empty if there are no specific guidelines or tools. Correctness of output & accuracy (ID282) (undefined)\n",
      "A93 - Which specific guidelines or tools are you aware of that help to enable the quality aspects? Provide short descriptions and/or URLs if possible, leave empty if there are no specific guidelines or tools. Perform Code Profiling (ID283) (undefined)\n",
      "A94 - Which specific guidelines or tools are you aware of that help to enable the quality aspects? Provide short descriptions and/or URLs if possible, leave empty if there are no specific guidelines or tools. Extendability of code (ID284) (undefined)\n",
      "A95 - Which specific guidelines or tools are you aware of that help to enable the quality aspects? Provide short descriptions and/or URLs if possible, leave empty if there are no specific guidelines or tools. Maintainability of software project (ID285) (undefined)\n",
      "A96 - Which specific guidelines or tools are you aware of that help to enable the quality aspects? Provide short descriptions and/or URLs if possible, leave empty if there are no specific guidelines or tools. Use standard protocols and APIs (ID302) (undefined)\n",
      "A97 - Which specific guidelines or tools are you aware of that help to enable the quality aspects? Provide short descriptions and/or URLs if possible, leave empty if there are no specific guidelines or tools. Use coding conventions and style (ID303) (undefined)\n",
      "A98 - Which specific guidelines or tools are you aware of that help to enable the quality aspects? Provide short descriptions and/or URLs if possible, leave empty if there are no specific guidelines or tools. Ensure reusability of code (ID319) (undefined)\n",
      "A99 - Which specific guidelines or tools are you aware of that help to enable the quality aspects? Provide short descriptions and/or URLs if possible, leave empty if there are no specific guidelines or tools. Optimize usability of GUI or API (ID453) (undefined)\n",
      "A100 - Which specific guidelines or tools are you aware of that help to enable the quality aspects? Provide short descriptions and/or URLs if possible, leave empty if there are no specific guidelines or tools. Provide packaging and containerization (ID454) (undefined)\n",
      "A101 - Which specific guidelines or tools are you aware of that help to enable the quality aspects? Provide short descriptions and/or URLs if possible, leave empty if there are no specific guidelines or tools. Ensure compatibility with different platforms (ID455) (undefined)\n",
      "A102 - Which specific guidelines or tools are you aware of that help to enable the quality aspects? Provide short descriptions and/or URLs if possible, leave empty if there are no specific guidelines or tools. Register in software repositories (ID456) (undefined)\n",
      "A103 - Which specific guidelines or tools are you aware of that help to enable the quality aspects? Provide short descriptions and/or URLs if possible, leave empty if there are no specific guidelines or tools. Make the code citable (ID457) (undefined)\n",
      "A104 - Which specific guidelines or tools are you aware of that help to enable the quality aspects? Provide short descriptions and/or URLs if possible, leave empty if there are no specific guidelines or tools. Apply a license (ID133) (undefined)\n",
      "A105 - Which specific guidelines or tools are you aware of that help to enable the quality aspects? Provide short descriptions and/or URLs if possible, leave empty if there are no specific guidelines or tools. Use version control (ID462) (undefined)\n",
      "A106 - Which specific guidelines or tools are you aware of that help to enable the quality aspects? Provide short descriptions and/or URLs if possible, leave empty if there are no specific guidelines or tools. Use continuous integration (ID463) (undefined)\n",
      "A107 - Which specific guidelines or tools are you aware of that help to enable the quality aspects? Provide short descriptions and/or URLs if possible, leave empty if there are no specific guidelines or tools. Create tests and benchmarks (ID464) (undefined)\n",
      "A108 - Which specific guidelines or tools are you aware of that help to enable the quality aspects? Provide short descriptions and/or URLs if possible, leave empty if there are no specific guidelines or tools. Evaluate coverage of testing (ID465) (undefined)\n",
      "A109 - Which specific guidelines or tools are you aware of that help to enable the quality aspects? Provide short descriptions and/or URLs if possible, leave empty if there are no specific guidelines or tools. Provide general documentation (ID486) (undefined)\n",
      "A110 - Which specific guidelines or tools are you aware of that help to enable the quality aspects? Provide short descriptions and/or URLs if possible, leave empty if there are no specific guidelines or tools. Issue a scientific publication (ID487) (undefined)\n",
      "A111 - Which specific guidelines or tools are you aware of that help to enable the quality aspects? Provide short descriptions and/or URLs if possible, leave empty if there are no specific guidelines or tools. Provide user examples (ID488) (undefined)\n",
      "A112 - Which specific guidelines or tools are you aware of that help to enable the quality aspects? Provide short descriptions and/or URLs if possible, leave empty if there are no specific guidelines or tools. Provide extensive metadata description (ID489) (undefined)\n",
      "A113 - Are there any aspects and comments on software quality that you want to share? (ID1596) (textlist)\n",
      "A114 - Creation date (undefined)\n"
     ]
    }
   ],
   "source": [
    "data.list_questions()"
   ]
  }
 ],
 "metadata": {
  "kernelspec": {
   "display_name": "Python 3 (ipykernel)",
   "language": "python",
   "name": "python3"
  },
  "language_info": {
   "codemirror_mode": {
    "name": "ipython",
    "version": 3
   },
   "file_extension": ".py",
   "mimetype": "text/x-python",
   "name": "python",
   "nbconvert_exporter": "python",
   "pygments_lexer": "ipython3",
   "version": "3.11.6"
  }
 },
 "nbformat": 4,
 "nbformat_minor": 5
}
