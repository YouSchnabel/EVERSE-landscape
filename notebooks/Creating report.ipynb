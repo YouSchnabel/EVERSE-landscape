{
 "cells": [
  {
   "cell_type": "markdown",
   "id": "c2ca2dff-61f1-4c19-996a-07ce44fd1adb",
   "metadata": {},
   "source": [
    "# Create report and documentation\n",
    "\n",
    "In order to create a report, use a configuration file (.yml), which can contain the following entries - each entry can also be assigned a `title` and a `description`:\n",
    "\n",
    "### Chapters\n",
    "Chapters are identified by `chap_` as keyword, all elements to be displayed within a chapter are listed below and indented. If you want to save a chapter as textfile, provide a filename.\n",
    "```\n",
    "chap_software:\n",
    "    title: Your title of the chapter\n",
    "    description: Write some text here\n",
    "    filename: myfilename\n",
    "```"
   ]
  },
  {
   "cell_type": "code",
   "execution_count": null,
   "id": "3505f999-c75c-459d-9b2a-5317f88f5f4a",
   "metadata": {},
   "outputs": [],
   "source": [
    "import sys\n",
    "import os"
   ]
  },
  {
   "cell_type": "code",
   "execution_count": 2,
   "id": "2e9b231c-067f-4129-bda6-a1fc71285ff6",
   "metadata": {},
   "outputs": [],
   "source": [
    "from surveyer.plotter import ReportMaker\n",
    "\n",
    "datapath = \"../data/Survey_outcomes_anonymized.h5\"\n",
    "configfile = \"../data/structure.yml\"\n",
    "outfilepath = \"../docs/\""
   ]
  },
  {
   "cell_type": "code",
   "execution_count": null,
   "id": "8d2a8ff1-d012-4392-a24f-20e042f946b4",
   "metadata": {},
   "outputs": [],
   "source": [
    "maker = ReportMaker(datapath, configfile, outfilepath)\n",
    "\n",
    "# Create the pages according to the config file and provide a summary file (True)\n",
    "maker.create_report(\"pages\", True)"
   ]
  },
  {
   "cell_type": "code",
   "execution_count": null,
   "id": "f211749d-4824-4f06-8e34-131cb96916e6",
   "metadata": {},
   "outputs": [],
   "source": []
  }
 ],
 "metadata": {
  "kernelspec": {
   "display_name": "Python 3 (ipykernel)",
   "language": "python",
   "name": "python3"
  },
  "language_info": {
   "codemirror_mode": {
    "name": "ipython",
    "version": 3
   },
   "file_extension": ".py",
   "mimetype": "text/x-python",
   "name": "python",
   "nbconvert_exporter": "python",
   "pygments_lexer": "ipython3",
   "version": "3.11.6"
  }
 },
 "nbformat": 4,
 "nbformat_minor": 5
}
