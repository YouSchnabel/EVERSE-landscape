{
 "cells": [
  {
   "cell_type": "markdown",
   "id": "1048a029-ece7-4d4a-88bc-a79ceba8dd50",
   "metadata": {},
   "source": [
    "# Create an overview report\n",
    "\n",
    "In order to create a report, use a configuration file (.yml), which can contain the following entries - each entry can also be assigned a `title` and a `description`:\n",
    "\n",
    "### Chapters\n",
    "Chapters are identified by `chap_` as keyword, all elements to be displayed within a chapter are listed below and indented. If you want to save a chapter as textfile, provide a filename.\n",
    "```\n",
    "chap_software:\n",
    "    title: Your title of the chapter\n",
    "    description: Write some text here\n",
    "    filename: myfilename\n",
    "```\n",
    "\n",
    "### Tables of text answers\n",
    "Create a table as part of a chapter using the `table_` keyword, listing the question identifiers of questions to be displayed as columns. If `alttitles` are provided, the column titles display these alternative titles instead of the full question text. Only columns of type \"text\" are used, also from questions with multiple answers.\n",
    "\n",
    "```\n",
    "    table_ana:\n",
    "        title: Title of the table\n",
    "        identifiers: [A12, A13, A14]\n",
    "        alttitles: [\"Column 1\", \"The other title\", \"Short name\"]\n",
    "```"
   ]
  },
  {
   "cell_type": "code",
   "execution_count": null,
   "id": "3505f999-c75c-459d-9b2a-5317f88f5f4a",
   "metadata": {},
   "outputs": [
    {
     "name": "stdout",
     "output_type": "stream",
     "text": [
      "Requirement already satisfied: tabulate in /opt/conda/lib/python3.11/site-packages (0.9.0)\n"
     ]
    }
   ],
   "source": [
    "! pip install tabulate\n",
    "import sys\n",
    "import os\n",
    "\n",
    "sys.path.append(\"../src\")"
   ]
  },
  {
   "cell_type": "code",
   "execution_count": null,
   "id": "2e9b231c-067f-4129-bda6-a1fc71285ff6",
   "metadata": {},
   "outputs": [],
   "source": [
    "from plotter import ReportMaker\n",
    "\n",
    "datapath = \"../data/Survey_outcomes_anonymized.h5\"\n",
    "configfile = \"../data/structure.yml\"\n",
    "outfilepath = \"../docs/\""
   ]
  },
  {
   "cell_type": "code",
   "execution_count": null,
   "id": "8d2a8ff1-d012-4392-a24f-20e042f946b4",
   "metadata": {},
   "outputs": [],
   "source": [
    "maker = ReportMaker(datapath, configfile, outfilepath)\n",
    "maker.create_report(\"pages\")"
   ]
  },
  {
   "cell_type": "code",
   "execution_count": null,
   "id": "1fad0cfe-110e-42b2-a5d1-a7d0cd534bde",
   "metadata": {},
   "outputs": [],
   "source": [
    "maker.create_report()"
   ]
  },
  {
   "cell_type": "code",
   "execution_count": null,
   "id": "bbc57766-0fcb-45de-b201-d0b98b26b2ab",
   "metadata": {},
   "outputs": [],
   "source": []
  }
 ],
 "metadata": {
  "kernelspec": {
   "display_name": "Python 3 (ipykernel)",
   "language": "python",
   "name": "python3"
  },
  "language_info": {
   "codemirror_mode": {
    "name": "ipython",
    "version": 3
   },
   "file_extension": ".py",
   "mimetype": "text/x-python",
   "name": "python",
   "nbconvert_exporter": "python",
   "pygments_lexer": "ipython3",
   "version": "3.11.6"
  }
 },
 "nbformat": 4,
 "nbformat_minor": 5
}
